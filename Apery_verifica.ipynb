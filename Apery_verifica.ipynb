{
  "nbformat": 4,
  "nbformat_minor": 0,
  "metadata": {
    "colab": {
      "name": "Apery_verifica.ipynb",
      "provenance": [],
      "authorship_tag": "ABX9TyMtNIHmcSIOUkTqX+R7Pj4k",
      "include_colab_link": true
    },
    "kernelspec": {
      "name": "python3",
      "display_name": "Python 3"
    }
  },
  "cells": [
    {
      "cell_type": "markdown",
      "metadata": {
        "id": "view-in-github",
        "colab_type": "text"
      },
      "source": [
        "<a href=\"https://colab.research.google.com/github/art1bo/Python-amatore/blob/master/Apery_verifica.ipynb\" target=\"_parent\"><img src=\"https://colab.research.google.com/assets/colab-badge.svg\" alt=\"Open In Colab\"/></a>"
      ]
    },
    {
      "cell_type": "code",
      "metadata": {
        "id": "XcDCTL2ZHkIJ",
        "colab_type": "code",
        "colab": {}
      },
      "source": [
        ""
      ],
      "execution_count": null,
      "outputs": []
    },
    {
      "cell_type": "code",
      "metadata": {
        "id": "n7VSux2VGVtU",
        "colab_type": "code",
        "colab": {
          "base_uri": "https://localhost:8080/",
          "height": 260
        },
        "outputId": "77df8b75-fbb4-4556-f925-e0c86d2fe3b1"
      },
      "source": [
        "import time\n",
        "from random import randint, seed\n",
        "from math import gcd as MCD\n",
        "from decimal import Decimal\n",
        "\n",
        "\n",
        "class bcolors:\n",
        "    FUCSIA = '\\033[95m'\n",
        "    BLU = '\\033[94m'\n",
        "    VERDE = '\\033[92m'\n",
        "    GIALLO = '\\033[93m'\n",
        "    ROSSO = '\\033[91m'\n",
        "    ENDC = '\\033[0m'\n",
        "    GRASSETTO = '\\033[1m'\n",
        "    SOTTOLINEATO = '\\033[4m'\n",
        "\n",
        "#Inizio programma\n",
        "print('Verifica costante di Apery')\n",
        "print(' ')\n",
        "\n",
        "apery=Decimal('1.20205690315959428539')\n",
        "cicli=1000000\n",
        "massimo=1000\n",
        "coprimi=0\n",
        "non_coprimi=0\n",
        "print(\"iterazioni:\",\"{:,}\".format(cicli).replace(',','.'))\n",
        "seed(time.time())\n",
        "inizio=time.time()\n",
        "for i in range(1,cicli+1):\n",
        " x=randint(1, massimo)\n",
        " y=randint(1, massimo)\n",
        " z=randint(1, massimo)\n",
        " if str(MCD(x,MCD(y,z)))==\"1\":\n",
        "   #print(str(i).rjust(len(str(cicli))),\": \",bcolors.GRASSETTO+str(x).rjust(5),\"-\"+str(y).rjust(5),\"-\"+str(z).rjust(5),\"-\"+bcolors.ROSSO+\"coprimi:\"+bcolors.ENDC)\n",
        "   coprimi+=1\n",
        " else:\n",
        "   #print(str(i).rjust(len(str(cicli))),\": \",bcolors.GRASSETTO+str(x).rjust(5),\"-\"+str(y).rjust(5),\"-\"+str(z).rjust(5),\"-\"+bcolors.ROSSO+\"non coprimi:\"+bcolors.ENDC)\n",
        "   non_coprimi+=1\n",
        "aperytest=Decimal(str(cicli/coprimi))\n",
        "print(\"coprimi=\",\"{:,}\".format(coprimi).replace(',','.'),\" - non coprimi=\",\"{:,}\".format(non_coprimi).replace(',','.'))\n",
        "print(bcolors.FUCSIA+\"calc apery=\"+bcolors.ENDC,aperytest)\n",
        "print(bcolors.VERDE+\"vera apery=\"+bcolors.ENDC,apery)\n",
        "print(bcolors.ROSSO+\"-->errore =\",str(abs(apery-aperytest))+bcolors.ENDC)\n",
        "print(bcolors.BLU+\"-->errore%=\",str(round((abs(apery-aperytest))/apery*100,4))+\"%\"+bcolors.ENDC)\n",
        "print(str(round(time.time()-inizio,2))+\" sec\")\n",
        "\n",
        "apery2=0\n",
        "massimo2=1000\n",
        "for j in range(1, massimo2+1):\n",
        "  apery2+=Decimal(str(j**-3))\n",
        "print(\"elementi sommati=\",str(massimo2))\n",
        "print(bcolors.FUCSIA+\"calc apery=\"+bcolors.ENDC,apery2)\n",
        "print(bcolors.VERDE+\"vera apery=\"+bcolors.ENDC,apery)\n",
        "print(bcolors.ROSSO+\"-->errore =\",str(abs(apery-apery2))+bcolors.ENDC)\n",
        "print(bcolors.BLU+\"-->errore%=\",str(round((abs(apery-apery2))/apery*100,9))+\"%\"+bcolors.ENDC)\n",
        "#continuo=input(\"Invio per uscire\")\n",
        "      \n"
      ],
      "execution_count": null,
      "outputs": [
        {
          "output_type": "stream",
          "text": [
            "Verifica costante di Apery\n",
            " \n",
            "iterazioni: 1.000.000\n",
            "coprimi= 832.281  - non coprimi= 167.719\n",
            "\u001b[95mcalc apery=\u001b[0m 1.2015172760161532\n",
            "\u001b[92mvera apery=\u001b[0m 1.20205690315959428539\n",
            "\u001b[91m-->errore = 0.00053962714344108539\u001b[0m\n",
            "\u001b[94m-->errore%= 0.0449%\u001b[0m\n",
            "3.9 sec\n",
            "elementi sommati= 1000\n",
            "\u001b[95mcalc apery=\u001b[0m 1.2020564036593442825952082\n",
            "\u001b[92mvera apery=\u001b[0m 1.20205690315959428539\n",
            "\u001b[91m-->errore = 4.995002500027947918E-7\u001b[0m\n",
            "\u001b[94m-->errore%= 0.000041554%\u001b[0m\n"
          ],
          "name": "stdout"
        }
      ]
    }
  ]
}